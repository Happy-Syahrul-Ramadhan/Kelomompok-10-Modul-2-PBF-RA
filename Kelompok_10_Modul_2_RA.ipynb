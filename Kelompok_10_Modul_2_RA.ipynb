{
  "cells": [
    {
      "cell_type": "markdown",
      "metadata": {
        "id": "1A1IU6srVG0n"
      },
      "source": [
        "# Pembobotan Kata Menggunakan Metode TFIDF"
      ]
    },
    {
      "cell_type": "markdown",
      "metadata": {
        "id": "LRjvzUfE9hYd"
      },
      "source": [
        "\n",
        "\n",
        "1.   Menyiapkan Data yang akan di tentukan bobot dan frekuensinya setiap katanya\n"
      ]
    },
    {
      "cell_type": "code",
      "execution_count": 14,
      "metadata": {
        "colab": {
          "base_uri": "https://localhost:8080/"
        },
        "id": "OTa3MuNW7rWu",
        "outputId": "f6d1b412-972a-43ab-e725-6a94ca421acd"
      },
      "outputs": [
        {
          "data": {
            "text/plain": [
              "['saat ini di bandar lampung sering turun hujan dan banjir sampai mengakibatkan banjir beberapa daerah bandar lampung banjir tersebut mengakibatkan banyak kerusakan yang disebabkan oleh banjir ']"
            ]
          },
          "execution_count": 14,
          "metadata": {},
          "output_type": "execute_result"
        }
      ],
      "source": [
        "data = ['Saat ini di Bandar Lampung sering turun hujan dan banjir sampai mengakibatkan banjir beberapa daerah Bandar Lampung banjir terseBut mengakibatkan banyak kerusakan yang disebabkan oleh banjir ']\n",
        "\n",
        "data_lower = list(map(str.lower, data)) # menormalisasi data text dengan mengubah semua menjadi lowercase atau huruf kecil semua\n",
        "data_lower"
      ]
    },
    {
      "cell_type": "markdown",
      "metadata": {
        "id": "diHDS77YL_4h"
      },
      "source": [
        "2. melakukan split atau pemisahan dari kalimat menjadi per kata"
      ]
    },
    {
      "cell_type": "code",
      "execution_count": 15,
      "metadata": {
        "colab": {
          "base_uri": "https://localhost:8080/"
        },
        "id": "Kk1I_sd6MA2e",
        "outputId": "ba543ea0-6d2a-4d88-a982-5a8b65ef9d4f"
      },
      "outputs": [
        {
          "name": "stdout",
          "output_type": "stream",
          "text": [
            "['saat', 'ini', 'di', 'bandar', 'lampung', 'sering', 'turun', 'hujan', 'dan', 'banjir', 'sampai', 'mengakibatkan', 'banjir', 'beberapa', 'daerah', 'bandar', 'lampung', 'banjir', 'tersebut', 'mengakibatkan', 'banyak', 'kerusakan', 'yang', 'disebabkan', 'oleh', 'banjir']\n"
          ]
        }
      ],
      "source": [
        "data_kata = [kata for kalimat in data_lower for kata in kalimat.split()]\n",
        "print(data_kata)"
      ]
    },
    {
      "cell_type": "markdown",
      "metadata": {
        "id": "Ur-MANYiPSk3"
      },
      "source": [
        "3. menentukan frekuensi dari setiap kemunculan kata dengan menggunakan reduce dan fungsi lambda"
      ]
    },
    {
      "cell_type": "code",
      "execution_count": null,
      "metadata": {
        "colab": {
          "base_uri": "https://localhost:8080/"
        },
        "id": "GtpNHyFNL39q",
        "outputId": "fc4672af-b147-48b5-aeef-029a0a8288b0"
      },
      "outputs": [],
      "source": [
        "from functools import reduce\n",
        "\n",
        "kamus_kata = {}\n",
        "kamus_kata = reduce(lambda acc, kata: {**acc, kata: acc.get(kata, 0) + 1}, data_kata, {})\n",
        "print(kamus_kata)"
      ]
    },
    {
      "cell_type": "markdown",
      "metadata": {
        "id": "OB37XWUeNiqE"
      },
      "source": [
        "\n",
        "\n",
        "4.   Menerapkan TFIDF dengan mengimport modul TfidfVectorizer dari library sklearn, untuk mendapatkan nilai bobot dari setiap katanya bersadarkan frekuensi kata tersebut. Dan disini juga sudah otomatis di transformasi dengan nilai maksimum 1 dan minimum 0, jika nilai bobot tersebut mendekati 1 maka kata tersebut memiliki bobot yang tinggi dan sebaliknya\n",
        "\n"
      ]
    },
    {
      "cell_type": "code",
      "execution_count": null,
      "metadata": {
        "colab": {
          "base_uri": "https://localhost:8080/"
        },
        "id": "WdIGyztt85iX",
        "outputId": "32149a8b-b769-488d-e597-519cc529c5d8"
      },
      "outputs": [],
      "source": [
        "from sklearn.feature_extraction.text import TfidfVectorizer\n",
        "\n",
        "\n",
        "vectorize = TfidfVectorizer()\n",
        "respon = vectorize.fit_transform(data)\n",
        "print(respon)"
      ]
    },
    {
      "cell_type": "markdown",
      "metadata": {
        "id": "Bz8gxN94SqFp"
      },
      "source": [
        "\n",
        "\n",
        "5.   Menampilkan tokenize atau kalimat yang sudah di stopword yang dimana awalnya kumpulan kalimat sekarang di pecah menjadi kumpulan kata tetapi disini hanya menampilkan kata unik saja\n",
        "\n",
        "\n",
        "\n",
        "\n"
      ]
    },
    {
      "cell_type": "code",
      "execution_count": null,
      "metadata": {
        "colab": {
          "base_uri": "https://localhost:8080/"
        },
        "id": "cNMUaRBoSlaO",
        "outputId": "ec289a21-0ac7-45c8-80fc-023c6effbe28"
      },
      "outputs": [],
      "source": [
        "stop_word = vectorize.get_feature_names_out()\n",
        "stop_word"
      ]
    },
    {
      "cell_type": "markdown",
      "metadata": {
        "id": "Gw_bRLaeSvJt"
      },
      "source": [
        "\n",
        "\n",
        "6.   menransformasikan menjadi array 2 dimensi atau matriks yang dimana setiap barisnya merepresentasikan bobot dari setiap kalimatnya\n",
        "\n",
        "\n"
      ]
    },
    {
      "cell_type": "code",
      "execution_count": null,
      "metadata": {
        "colab": {
          "base_uri": "https://localhost:8080/"
        },
        "id": "PlmHacDzCj8A",
        "outputId": "64021319-d6b2-4b3f-c903-d9daf5345686"
      },
      "outputs": [],
      "source": [
        "respon.todense()"
      ]
    },
    {
      "cell_type": "markdown",
      "metadata": {
        "id": "ydQamfc1DU28"
      },
      "source": [
        "\n",
        "\n",
        "7.   Untuk memudahkan representasi dari matriks kita ubah ke bentuk yang lebih rapi menggunakan library pandas dan kita melakuakn transpose matriks tersebut agar dapat mengubah keterangan document atau keterangan kalimat menjadi kolom dan keterangan tokenize atau setiap kata kita letakkan di bagian baris\n",
        "\n",
        "\n"
      ]
    },
    {
      "cell_type": "code",
      "execution_count": null,
      "metadata": {
        "colab": {
          "base_uri": "https://localhost:8080/"
        },
        "id": "0pDZjrW8EV-C",
        "outputId": "aa84f27f-e4c7-4779-9401-a9248ee0e03b"
      },
      "outputs": [],
      "source": []
    },
    {
      "cell_type": "code",
      "execution_count": null,
      "metadata": {
        "colab": {
          "base_uri": "https://localhost:8080/",
          "height": 238
        },
        "id": "W2zUWfYHHMhk",
        "outputId": "9527fb69-10d6-4de4-9c4c-36b56b5373a9"
      },
      "outputs": [],
      "source": []
    }
  ],
  "metadata": {
    "colab": {
      "provenance": []
    },
    "kernelspec": {
      "display_name": "Python 3",
      "name": "python3"
    },
    "language_info": {
      "codemirror_mode": {
        "name": "ipython",
        "version": 3
      },
      "file_extension": ".py",
      "mimetype": "text/x-python",
      "name": "python",
      "nbconvert_exporter": "python",
      "pygments_lexer": "ipython3",
      "version": "3.10.12"
    }
  },
  "nbformat": 4,
  "nbformat_minor": 0
}
